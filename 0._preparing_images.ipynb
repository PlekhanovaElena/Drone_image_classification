{
 "cells": [
  {
   "cell_type": "code",
   "execution_count": 3,
   "metadata": {},
   "outputs": [],
   "source": [
    "import os\n",
    "import numpy as np\n",
    "import tifffile as tiff # for reading the original TIFF images\n",
    "import cv2 # for saving JPEG images\n",
    "import rasterio # for saving GeoTiff image\n",
    "from tqdm.notebook import tqdm # for the beautiful progress-bars\n",
    "from skimage.transform import rescale # for rescaling the images\n",
    "from sklearn.impute import KNNImputer # for imputting the missing values"
   ]
  },
  {
   "cell_type": "code",
   "execution_count": 4,
   "metadata": {},
   "outputs": [],
   "source": [
    "PATH_ORIGINAL_IMAGES = \"../../../Nextcloud2/\" # the folder with all the images\n",
    "IDEAL_SIZE = 3000 # the ideal size of the output image (IDEAL_SIZE*IDEAL_SIZE pix), it is used for scaling RGB images\n",
    "OUTPUT_MSP_NPY = \"./data/drone_msp_numpy/\" # output folder for MSP numpy matrixes\n",
    "OUTPUT_MSP_FALSECOLOR = \"./data/drone_false_color_msp/\" # output folder for MSP falsecolor JPEG images\n",
    "OUTPUT_RGB_JPG = \"./data/drone_rgb_jpg/\"\n",
    "OUTPUT_RGB_GEOTIFF = \"./data/drone_rgb/\"\n",
    "\n",
    "# Creating the ou tput directories if they do not exist\n",
    "if not os.path.exists(OUTPUT_MSP_NPY):  \n",
    "    os.mkdir(OUTPUT_MSP_NPY)\n",
    "if not os.path.exists(OUTPUT_MSP_FALSECOLOR):  \n",
    "    os.mkdir(OUTPUT_MSP_FALSECOLOR)\n",
    "if not os.path.exists(OUTPUT_RGB_JPG):  \n",
    "    os.mkdir(OUTPUT_RGB_JPG)\n",
    "if not os.path.exists(OUTPUT_RGB_GEOTIFF):  \n",
    "    os.mkdir(OUTPUT_RGB_GEOTIFF)\n",
    "    \n",
    "def image_minmax(im): # minmax normalizing image to the range from 0 to 1 for the JPEg output\n",
    "    imax = im.max()\n",
    "    imin = im.min()       \n",
    "    im = (im - imin)/(imax - imin)\n",
    "    return im"
   ]
  },
  {
   "cell_type": "code",
   "execution_count": 5,
   "metadata": {},
   "outputs": [],
   "source": [
    "# listing all the pathes to the drone images\n",
    "drfiles = []\n",
    "for path, subdirs, files in os.walk(PATH_ORIGINAL_IMAGES):\n",
    "    for name in files:\n",
    "        drfiles = drfiles + [os.path.join(path, name)]\n",
    "\n",
    "\n",
    "# listing all MSP images\n",
    "nirfiles = [drfiles[i] for i in range(len(drfiles)) if any(x in drfiles[i] for x in [\"_nir\"])]\n",
    "names_msp = [nirfiles[i].split(\"nir.tif\")[0] for i in range(len(nirfiles))]\n",
    "\n",
    "# listing all RGB images and selecting those for which MSP is not available\n",
    "rgbfiles = [drfiles[i] for i in range(len(drfiles)) if (\"_rgb.tif\" in drfiles[i]) & (\"_rgb.tif.\" not in drfiles[i])]\n",
    "rgb_nams = [rg.split(\"\\\\\")[-1].split(\"_RGB\")[0] for rg in rgbfiles]\n",
    "rgbfiles = np.array(rgbfiles)\n",
    "rgb_wo_msp = rgbfiles[[np.all(np.char.find(names_msp, rn) < 0) for rn in rgb_nams]]\n",
    "rgb_wo_msp = [rg.split(\"rgb.tif\")[0] for rg in rgb_wo_msp]"
   ]
  },
  {
   "cell_type": "code",
   "execution_count": 4,
   "metadata": {
    "scrolled": true
   },
   "outputs": [
    {
     "data": {
      "application/vnd.jupyter.widget-view+json": {
       "model_id": "5297bc2ba4ad402a9a3018764bcc7cce",
       "version_major": 2,
       "version_minor": 0
      },
      "text/plain": [
       "  0%|          | 0/2 [00:00<?, ?it/s]"
      ]
     },
     "metadata": {},
     "output_type": "display_data"
    },
    {
     "name": "stdout",
     "output_type": "stream",
     "text": [
      "25 ---- Image GL_ZAC_ZAC2_MSP_20190809_ ----\n",
      "Band: red, shape: (3031, 3032), number of NA values: 6\n",
      "Band: gre, shape: (3031, 3032), number of NA values: 1\n",
      "Band: reg, shape: (3031, 3032), number of NA values: 0\n",
      "Band: nir, shape: (3031, 3032), number of NA values: 0\n",
      "26 ---- Image GL_ZAC_ZAC3_MSP_20190809_ ----\n",
      "Band: red, shape: (3032, 3032), number of NA values: 161\n",
      "Band: gre, shape: (3032, 3032), number of NA values: 902\n",
      "Band: reg, shape: (3032, 3032), number of NA values: 420\n",
      "Band: nir, shape: (3032, 3032), number of NA values: 201\n"
     ]
    }
   ],
   "source": [
    "# Reading each MSP image by band, filling in, stacking to one 4-band image (red, green, reg, nir),\n",
    "# and saving it in .npy format\n",
    "# Additionally, we save the falsecolor (NIR, red, green) image in JPEG format\n",
    "abbrev = \"msp\"\n",
    "bands = [\"red\",\"gre\",\"reg\",\"nir\"]\n",
    "imputer = KNNImputer(n_neighbors=9, weights=\"uniform\") # the imputer for NA values\n",
    "for i in tqdm(range(len(names_msp))): # for all the MSP images\n",
    "    nam = names_msp[i].split(\"\\\\\")[-1]\n",
    "    print(i, \"---- Image \" + nam + \" ----\")\n",
    "    nam = nam.split(\"_MSP\")[0]\n",
    "    \n",
    "    full_im = []\n",
    "    for band in bands: # reading MSP bands one by one\n",
    "        path_im = names_msp[i] + band + \".tif\"\n",
    "        im = tiff.imread(path_im) # reading tiff image\n",
    "        na_mask = im < -1000 # creating mask of NA values (they are represented as large negative values)\n",
    "        print(\"Band: \" + band + \", shape: \" + str(im.shape) + \n",
    "              \", number of NA values:\", len(im[na_mask]))\n",
    "\n",
    "        # checking that there are not too much NA values\n",
    "        if (len(im[na_mask])/(im.shape[0]*im.shape[1]*im.shape[0])) > 0.1: \n",
    "            print(\"Image\", nam, \". Too many NA values to fill in. Proceeding without imputation.\")\n",
    "        else:\n",
    "            im[na_mask] = np.nan\n",
    "            im = imputer.fit_transform(im) # filling in NA values with the pre-defined imputer \n",
    "            full_im = full_im + [im] # adding current band to the list of bands\n",
    "\n",
    "    full_im = np.stack(full_im, axis = -1) # stacking all bands to one image\n",
    "    #Saving the MSP image as numpy matrix x*y*z, where x*y are image dimentions, and z=4 - number of bands\n",
    "    np.save(OUTPUT_MSP_NPY + names_msp[i].split(\"\\\\\")[-1] + \"msp.npy\", full_im)\n",
    "    #Saving the MSP image as falsecolor JPEG (NIR, red, green) colorspace\n",
    "    msp3 = full_im[:,:,[3,0,1]]\n",
    "    msp3 = image_minmax(msp3)*255\n",
    "    msp3 = msp3.astype(dtype=np.uint8)\n",
    "    cv2.imwrite(OUTPUT_MSP_FALSECOLOR + names_msp[i].split(\"\\\\\")[-1] + \"falsecolor.jpg\", \\\n",
    "                cv2.cvtColor(msp3, cv2.COLOR_RGB2BGR))"
   ]
  },
  {
   "cell_type": "code",
   "execution_count": 10,
   "metadata": {
    "scrolled": true
   },
   "outputs": [
    {
     "data": {
      "application/vnd.jupyter.widget-view+json": {
       "model_id": "abd43492c1ca422ebfd93482ecbe0841",
       "version_major": 2,
       "version_minor": 0
      },
      "text/plain": [
       "  0%|          | 0/1 [00:00<?, ?it/s]"
      ]
     },
     "metadata": {},
     "output_type": "display_data"
    },
    {
     "name": "stdout",
     "output_type": "stream",
     "text": [
      "0 ---- Image NO_SVB_SAST_RGB_20180801_ ----\n",
      "Shape: (13112, 13112, 4) Number of NA values: 0\n"
     ]
    }
   ],
   "source": [
    "# Reading each RGB image, filling it in and rescaling by band, stacking to one 3-band image (red, green, blue),\n",
    "# and saving it in .tiff format with coordinates, and JPEG format\n",
    "\n",
    "abbrev = \"rgb\"\n",
    "imputer = KNNImputer(n_neighbors=9, weights=\"uniform\") # the imputer for NA values\n",
    "\n",
    "for i in tqdm(range(len(rgb_wo_msp))): #\n",
    "    \n",
    "    nam = rgb_wo_msp[i].split(\"\\\\\")[-1]\n",
    "    path_im = rgb_wo_msp[i] + \"rgb.tif\"\n",
    "    im = tiff.imread(path_im) # reading tiff image\n",
    "    \n",
    "    na_mask = im < -1000 # creating mask of NA values (they are represented as large negative values)\n",
    "    print(i, \"---- Image \" + nam + \" ----\")\n",
    "    print(\"Shape:\", im.shape, \"Number of NA values:\", len(im[na_mask]))\n",
    "\n",
    "    # checking that there are not too much NA values\n",
    "    if (len(im[na_mask])/(im.shape[0]*im.shape[1]*im.shape[2])) > 0.1: \n",
    "        print(\"Image\", nam, \". Too many NA values to fill in.\")\n",
    "    else:\n",
    "        im[na_mask] = np.nan\n",
    "        full_im = [rescale(imputer.fit_transform(im[:,:,band]), \n",
    "                           IDEAL_SIZE/im.shape[0], anti_aliasing=False) \n",
    "                   for band in range(3)] # imputing image by band and rescaling it to IDEEAL_SIZE\n",
    "        im = np.stack(full_im, axis=-1)\n",
    "        \n",
    "        # Saving the RGB image in GeoTiff format\n",
    "        orig = rasterio.open(path_im) # reading out the original coordinates\n",
    "        new_dataset = rasterio.open( \n",
    "            OUTPUT_RGB_GEOTIFF + nam + \"rgb.tiff\",\n",
    "            'w',\n",
    "            driver='GTiff',\n",
    "            height=im.shape[0],\n",
    "            width=im.shape[1],\n",
    "            count=3,\n",
    "            dtype=im.dtype,\n",
    "            crs=orig.crs, # coordinates of original image\n",
    "            transform=orig.transform,\n",
    "        )\n",
    "        new_dataset.write(np.transpose(im, [2,0,1])/255)\n",
    "        new_dataset.close()\n",
    "\n",
    "        # Saving the RGB image in JPEG format\n",
    "        im = image_minmax(im)*255\n",
    "        im = im.astype(dtype=np.uint8)\n",
    "        cv2.imwrite(OUTPUT_RGB_JPG + nam + \"rgb.jpg\", \\\n",
    "                    cv2.cvtColor(im, cv2.COLOR_RGB2BGR))      \n",
    "                \n",
    "                "
   ]
  }
 ],
 "metadata": {
  "kernelspec": {
   "display_name": "Python 3",
   "language": "python",
   "name": "python3"
  },
  "language_info": {
   "codemirror_mode": {
    "name": "ipython",
    "version": 3
   },
   "file_extension": ".py",
   "mimetype": "text/x-python",
   "name": "python",
   "nbconvert_exporter": "python",
   "pygments_lexer": "ipython3",
   "version": "3.6.5"
  }
 },
 "nbformat": 4,
 "nbformat_minor": 4
}
